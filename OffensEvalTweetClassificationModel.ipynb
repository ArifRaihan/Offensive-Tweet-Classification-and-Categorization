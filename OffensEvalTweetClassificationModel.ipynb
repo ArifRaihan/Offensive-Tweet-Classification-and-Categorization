{
  "nbformat": 4,
  "nbformat_minor": 0,
  "metadata": {
    "colab": {
      "name": "NNNLP Part D",
      "provenance": [],
      "collapsed_sections": []
    },
    "kernelspec": {
      "name": "python3",
      "display_name": "Python 3"
    },
    "accelerator": "GPU"
  },
  "cells": [
    {
      "cell_type": "code",
      "metadata": {
        "id": "cikgdPvnhIFr",
        "colab_type": "code",
        "colab": {}
      },
      "source": [
        "!pip install emoji"
      ],
      "execution_count": 0,
      "outputs": []
    },
    {
      "cell_type": "code",
      "metadata": {
        "id": "iojbsQIQ-XNJ",
        "colab_type": "code",
        "outputId": "aa509b81-d4f4-47c7-c2fb-2b549c45ddd2",
        "colab": {
          "base_uri": "https://localhost:8080/",
          "height": 34
        }
      },
      "source": [
        "from google.colab import drive\n",
        "drive.mount('/content/drive')"
      ],
      "execution_count": 0,
      "outputs": [
        {
          "output_type": "stream",
          "text": [
            "Drive already mounted at /content/drive; to attempt to forcibly remount, call drive.mount(\"/content/drive\", force_remount=True).\n"
          ],
          "name": "stdout"
        }
      ]
    },
    {
      "cell_type": "code",
      "metadata": {
        "id": "RA9C3bQzoXnP",
        "colab_type": "code",
        "outputId": "3ddb79ef-2b64-4076-d547-71c5ddbe58ad",
        "colab": {
          "base_uri": "https://localhost:8080/",
          "height": 50
        }
      },
      "source": [
        "import pandas as pd\n",
        "import emoji\n",
        "import nltk\n",
        "from nltk.corpus import stopwords \n",
        "import string\n",
        "from sklearn.preprocessing import LabelEncoder, OneHotEncoder\n",
        "\n",
        "nltk.download('stopwords')  \n",
        "stop_words = set(stopwords.words('english')) \n",
        "\n",
        "#Reading datasets from csv and tsv files\n",
        "\n",
        "olid_train_dataset = pd.read_csv('/content/drive/My Drive/OLIDv1.0/olid-training-v1.0.tsv',sep='\\t',index_col=0)\n",
        "olid_test_dataset_a = pd.read_csv('/content/drive/My Drive/OLIDv1.0/testset-levela.tsv',sep='\\t',index_col=0)\n",
        "\n",
        "olid_test_labels_a = pd.read_csv('/content/drive/My Drive/OLIDv1.0/labels-levela.csv',names=['label'],index_col=0)\n",
        "olid_test_labels_b = pd.read_csv('/content/drive/My Drive/OLIDv1.0/labels-levelb.csv',names=['label'],index_col=0)\n",
        "olid_test_labels_c = pd.read_csv('/content/drive/My Drive/OLIDv1.0/labels-levelc.csv',names=['label'],index_col=0)\n"
      ],
      "execution_count": 0,
      "outputs": [
        {
          "output_type": "stream",
          "text": [
            "[nltk_data] Downloading package stopwords to /root/nltk_data...\n",
            "[nltk_data]   Unzipping corpora/stopwords.zip.\n"
          ],
          "name": "stdout"
        }
      ]
    },
    {
      "cell_type": "code",
      "metadata": {
        "id": "dlOAJrOvAb1x",
        "colab_type": "code",
        "colab": {}
      },
      "source": [
        "#Create lists for train and test subtask labels\n",
        "train_data_subtask_a = list(olid_train_dataset['tweet'][:])\n",
        "test_data_subtask_a = list(olid_test_dataset_a['tweet'][:])\n",
        "\n",
        "train_labels_subtask_a = list(olid_train_dataset['subtask_a'][:])\n",
        "train_labels_subtask_b = list(olid_train_dataset['subtask_b'][:])\n",
        "train_labels_subtask_c = list(olid_train_dataset['subtask_c'][:])\n",
        "\n",
        "a_indexes = list(olid_test_labels_a.index)\n",
        "\n",
        "test_labels_subtask_a = list(olid_test_labels_a['label'])\n",
        "test_labels_subtask_b = []\n",
        "test_labels_subtask_c = []\n",
        "\n",
        "for i in range(len(a_indexes)):\n",
        "  if a_indexes[i] in olid_test_labels_b.index:\n",
        "    test_labels_subtask_b.append(olid_test_labels_b.loc[a_indexes[i]]['label'])\n",
        "  else:\n",
        "    test_labels_subtask_b.append('nan')\n",
        "\n",
        "  if a_indexes[i] in olid_test_labels_c.index:\n",
        "    test_labels_subtask_c.append(olid_test_labels_c.loc[a_indexes[i]]['label'])\n",
        "  else:\n",
        "    test_labels_subtask_c.append('nan')"
      ],
      "execution_count": 0,
      "outputs": []
    },
    {
      "cell_type": "code",
      "metadata": {
        "id": "Ldqdbj6hGoRE",
        "colab_type": "code",
        "colab": {}
      },
      "source": [
        "#Combine classes for both test and train dataset\n",
        "def concatenate_five_classes(labels_a,labels_b,labels_c):\n",
        "  combined_class = []\n",
        "  for i in range(len(labels_a)):\n",
        "    if str(labels_b[i]) == 'nan' and str(labels_c[i]) == 'nan':\n",
        "      combined_class.append('NOT')\n",
        "    elif str(labels_b[i]) != 'nan' and str(labels_c[i]) == 'nan':\n",
        "      combined_class.append('OFF-UNT')\n",
        "    else:\n",
        "      combined_class.append('OFF-TIN-'+str(labels_c[i]))\n",
        "    \n",
        "  return combined_class\n",
        "\n",
        "train_labels_abc = concatenate_five_classes(train_labels_subtask_a,train_labels_subtask_b,train_labels_subtask_c)\n",
        "test_labels_abc = concatenate_five_classes(test_labels_subtask_a,test_labels_subtask_b,test_labels_subtask_c)"
      ],
      "execution_count": 0,
      "outputs": []
    },
    {
      "cell_type": "code",
      "metadata": {
        "id": "pkK30rS-12VV",
        "colab_type": "code",
        "outputId": "9d0d820a-f09f-4cc6-9076-bb19ec905103",
        "colab": {
          "base_uri": "https://localhost:8080/",
          "height": 34
        }
      },
      "source": [
        "len(test_labels_abc)"
      ],
      "execution_count": 0,
      "outputs": [
        {
          "output_type": "execute_result",
          "data": {
            "text/plain": [
              "860"
            ]
          },
          "metadata": {
            "tags": []
          },
          "execution_count": 6
        }
      ]
    },
    {
      "cell_type": "code",
      "metadata": {
        "id": "q-AvqlgZO6QX",
        "colab_type": "code",
        "colab": {}
      },
      "source": [
        "#Sub Task A - Binary Classification for text being offensive and not offensive\n",
        "#Tokenization and Preprocessing for train and test data\n",
        "\n",
        "from nltk.tokenize import WhitespaceTokenizer\n",
        "\n",
        "whitespacetokenizer = WhitespaceTokenizer()\n",
        "\n",
        "#Tokenization\n",
        "subtask_a_corpus = [whitespacetokenizer.tokenize(emoji.demojize(i)) for i in train_data_subtask_a]\n",
        "subtask_a_corpus_test = [whitespacetokenizer.tokenize(emoji.demojize(i)) for i in test_data_subtask_a]\n",
        "\n",
        "def preprocess_corpus(corpus,corpus_labels,corpus_labels_abc):\n",
        "  corpus_pre_processed = []\n",
        "  corpus_pre_processed_labels = []\n",
        "  corpus_pre_processed_labels_abc = []\n",
        "\n",
        "  #Strip words of punctuations and digits\n",
        "  \n",
        "  punctuationList = string.punctuation.replace(\"*\",\"\") #To ignore * \n",
        "  punctuationList = punctuationList.replace(\":\",\"\")  #To ignore : in emoji strings\n",
        "  punctuationList = punctuationList + '’'\n",
        "\n",
        "  table = str.maketrans('', '', punctuationList+'0123456789')\n",
        "\n",
        "  corpus_stripped = []\n",
        "  for words in corpus:\n",
        "    stripped = []\n",
        "    for w in words:\n",
        "      stripped.append(w.translate(table))\n",
        "    corpus_stripped.append(stripped) \n",
        "\n",
        "  for sentence_index in range(len(corpus_stripped)):\n",
        "    new_sentence = []\n",
        "    for word in corpus_stripped[sentence_index]:\n",
        "      word = word.lower()\n",
        "      if word.isdigit() or word == ''  or word == 'url' or word == 'user' or word == 'maga'  or word in stop_words:\n",
        "        pass\n",
        "      else:\n",
        "        new_sentence.append(word)\n",
        "    \n",
        "    #if len(new_sentence) < 2:\n",
        "    #  pass\n",
        "    #else:\n",
        "    #  corpus_pre_processed.append(new_sentence)\n",
        "    #  corpus_pre_processed_labels.append(corpus_labels[sentence_index])\n",
        "    corpus_pre_processed.append(new_sentence)\n",
        "\n",
        "    #Create new list of labels with corresponding preprocessed corpus data\n",
        "    corpus_pre_processed_labels.append(corpus_labels[sentence_index])\n",
        "    corpus_pre_processed_labels_abc.append(corpus_labels_abc[sentence_index])\n",
        "\n",
        "  return corpus_pre_processed,corpus_pre_processed_labels,corpus_pre_processed_labels_abc\n",
        "\n"
      ],
      "execution_count": 0,
      "outputs": []
    },
    {
      "cell_type": "code",
      "metadata": {
        "id": "46V4dGgm5eQz",
        "colab_type": "code",
        "colab": {}
      },
      "source": [
        "preprocessed_corpus_a,preprocessed_corpus_a_labels,preprocessed_corpus_labels_abc = preprocess_corpus(subtask_a_corpus,train_labels_subtask_a,train_labels_abc)\n",
        "preprocessed_corpus_a_test,preprocessed_corpus_a_labels_test,preprocessed_corpus_labels_abc_test = preprocess_corpus(subtask_a_corpus_test,test_labels_subtask_a,test_labels_abc)"
      ],
      "execution_count": 0,
      "outputs": []
    },
    {
      "cell_type": "code",
      "metadata": {
        "id": "iB1xVG_LPh2D",
        "colab_type": "code",
        "colab": {}
      },
      "source": [
        "flat_corpus_a = []\n",
        "for sentence_index in range(len(preprocessed_corpus_a)):\n",
        "  for word in preprocessed_corpus_a[sentence_index]:\n",
        "    flat_corpus_a.append(word)\n"
      ],
      "execution_count": 0,
      "outputs": []
    },
    {
      "cell_type": "code",
      "metadata": {
        "id": "MQdaObCeU3_W",
        "colab_type": "code",
        "colab": {}
      },
      "source": [
        "#List of unique words / Vocabulary\n",
        "corpus_a_word_index = set(flat_corpus_a)\n",
        "\n",
        "#Word to indices dictionary with first 3 indexes for extra tokens\n",
        "word2idx = {word:id+3 for id,word in enumerate(corpus_a_word_index)}\n",
        "word2idx[\"<PAD>\"] = 0\n",
        "word2idx[\"<START>\"] = 1\n",
        "word2idx[\"<UNK>\"] = 2  \n",
        "\n",
        "idx2word = {id:word for (word,id) in word2idx.items()}\n"
      ],
      "execution_count": 0,
      "outputs": []
    },
    {
      "cell_type": "code",
      "metadata": {
        "id": "XpALacOk5y5g",
        "colab_type": "code",
        "colab": {}
      },
      "source": [
        "#Preparing training and test data and labels before feeding to model\n",
        "X_train = []\n",
        "y_train = []\n",
        "\n",
        "for i in range(len(preprocessed_corpus_a)):\n",
        "    X_train.append([word2idx[j] for j in preprocessed_corpus_a[i]])\n",
        "    \n",
        "    if preprocessed_corpus_a_labels[i] == 'OFF':\n",
        "      y_train.append(1)\n",
        "    else:\n",
        "      y_train.append(0)\n",
        "\n",
        "X_test = []\n",
        "y_test = []\n",
        "\n",
        "#Assigning index value of <UNK> -> 2 to words in test data that are not in word2idx dictionary\n",
        "for i in range(len(preprocessed_corpus_a_test)):\n",
        "    X_test.append([word2idx[j] if j in word2idx.keys() else word2idx['<UNK>'] for j in preprocessed_corpus_a_test[i]])\n",
        "    \n",
        "    if preprocessed_corpus_a_labels_test[i] == 'OFF':\n",
        "      y_test.append(1)\n",
        "    else:\n",
        "      y_test.append(0)\n"
      ],
      "execution_count": 0,
      "outputs": []
    },
    {
      "cell_type": "code",
      "metadata": {
        "id": "GTMMmmCgu84H",
        "colab_type": "code",
        "outputId": "b21cd73f-5123-4e82-bd22-1d8d4bcdab16",
        "colab": {
          "base_uri": "https://localhost:8080/",
          "height": 79
        }
      },
      "source": [
        "#Predefined functions for one hot and global average pooling in Lab 4\n",
        "\n",
        "import keras\n",
        "import numpy as np\n",
        "from keras.layers import Lambda, GlobalAveragePooling1D, Dense, Embedding,LSTM,Dropout,SimpleRNN,Conv1D,GlobalMaxPooling1D\n",
        "from keras import backend as K\n",
        "from keras.models import Sequential\n",
        "\n",
        "def OneHot(input_dim=None, input_length=None):\n",
        "    \n",
        "    if input_dim is None or input_length is None:\n",
        "        raise TypeError(\"input_dim or input_length is not set\")\n",
        "\n",
        "    \n",
        "    def _one_hot(x, num_classes):\n",
        "        return K.one_hot(K.cast(x, 'uint8'),\n",
        "                          num_classes=num_classes)\n",
        "\n",
        "    return Lambda(_one_hot,\n",
        "                  arguments={'num_classes': input_dim},\n",
        "                  input_shape=(input_length,))\n",
        "    \n",
        "class GlobalAveragePooling1DMasked(GlobalAveragePooling1D):\n",
        "    def call(self, x, mask=None):\n",
        "        if mask != None:\n",
        "            return K.sum(x, axis=1) / K.sum(mask, axis=1)\n",
        "        else:\n",
        "            return super().call(x)"
      ],
      "execution_count": 0,
      "outputs": [
        {
          "output_type": "stream",
          "text": [
            "Using TensorFlow backend.\n"
          ],
          "name": "stderr"
        },
        {
          "output_type": "display_data",
          "data": {
            "text/html": [
              "<p style=\"color: red;\">\n",
              "The default version of TensorFlow in Colab will soon switch to TensorFlow 2.x.<br>\n",
              "We recommend you <a href=\"https://www.tensorflow.org/guide/migrate\" target=\"_blank\">upgrade</a> now \n",
              "or ensure your notebook will continue to use TensorFlow 1.x via the <code>%tensorflow_version 1.x</code> magic:\n",
              "<a href=\"https://colab.research.google.com/notebooks/tensorflow_version.ipynb\" target=\"_blank\">more info</a>.</p>\n"
            ],
            "text/plain": [
              "<IPython.core.display.HTML object>"
            ]
          },
          "metadata": {
            "tags": []
          }
        }
      ]
    },
    {
      "cell_type": "code",
      "metadata": {
        "id": "6AH4LMEdvGCx",
        "colab_type": "code",
        "colab": {}
      },
      "source": [
        "VOCAB_SIZE = len(corpus_a_word_index)+2\n",
        "MAX_SEQUENCE_LENGTH = 60\n",
        "\n",
        "X_train_enc = keras.preprocessing.sequence.pad_sequences(X_train,\n",
        "                                                        value=word2idx[\"<PAD>\"],\n",
        "                                                        padding='pre',\n",
        "                                                        maxlen=MAX_SEQUENCE_LENGTH)\n",
        "X_test_enc =  keras.preprocessing.sequence.pad_sequences(X_test,\n",
        "                                                        value=word2idx[\"<PAD>\"],\n",
        "                                                        padding='pre',\n",
        "                                                        maxlen=MAX_SEQUENCE_LENGTH)"
      ],
      "execution_count": 0,
      "outputs": []
    },
    {
      "cell_type": "code",
      "metadata": {
        "id": "xqyvh6BPviU7",
        "colab_type": "code",
        "outputId": "0207934c-8a2f-47a0-9771-8127336c6d0e",
        "colab": {
          "base_uri": "https://localhost:8080/",
          "height": 282
        }
      },
      "source": [
        "#Model1\n",
        "model = keras.Sequential()\n",
        "model.add(Lambda(OneHot(input_dim=VOCAB_SIZE,input_length=MAX_SEQUENCE_LENGTH)))\n",
        "model.add(GlobalAveragePooling1DMasked())\n",
        "model.add(Dense(units=128))\n",
        "model.add(Dense(units=1,activation='sigmoid'))\n",
        "\n",
        "model.compile(optimizer='adam',\n",
        "              loss='binary_crossentropy',\n",
        "              metrics=['accuracy'])\n",
        "\n"
      ],
      "execution_count": 0,
      "outputs": [
        {
          "output_type": "stream",
          "text": [
            "WARNING:tensorflow:From /usr/local/lib/python3.6/dist-packages/keras/backend/tensorflow_backend.py:66: The name tf.get_default_graph is deprecated. Please use tf.compat.v1.get_default_graph instead.\n",
            "\n"
          ],
          "name": "stdout"
        },
        {
          "output_type": "error",
          "ename": "NameError",
          "evalue": "ignored",
          "traceback": [
            "\u001b[0;31m---------------------------------------------------------------------------\u001b[0m",
            "\u001b[0;31mNameError\u001b[0m                                 Traceback (most recent call last)",
            "\u001b[0;32m<ipython-input-12-6db87a4f7b82>\u001b[0m in \u001b[0;36m<module>\u001b[0;34m()\u001b[0m\n\u001b[1;32m      1\u001b[0m \u001b[0mmodel\u001b[0m \u001b[0;34m=\u001b[0m \u001b[0mkeras\u001b[0m\u001b[0;34m.\u001b[0m\u001b[0mSequential\u001b[0m\u001b[0;34m(\u001b[0m\u001b[0;34m)\u001b[0m\u001b[0;34m\u001b[0m\u001b[0;34m\u001b[0m\u001b[0m\n\u001b[0;32m----> 2\u001b[0;31m \u001b[0mmodel\u001b[0m\u001b[0;34m.\u001b[0m\u001b[0madd\u001b[0m\u001b[0;34m(\u001b[0m\u001b[0mLambda\u001b[0m\u001b[0;34m(\u001b[0m\u001b[0mOneHot\u001b[0m\u001b[0;34m(\u001b[0m\u001b[0minput_dim\u001b[0m\u001b[0;34m=\u001b[0m\u001b[0mVOCAB_SIZE\u001b[0m\u001b[0;34m,\u001b[0m\u001b[0minput_length\u001b[0m\u001b[0;34m=\u001b[0m\u001b[0mMAX_SEQUENCE_LENGTH\u001b[0m\u001b[0;34m)\u001b[0m\u001b[0;34m)\u001b[0m\u001b[0;34m)\u001b[0m\u001b[0;34m\u001b[0m\u001b[0;34m\u001b[0m\u001b[0m\n\u001b[0m\u001b[1;32m      3\u001b[0m \u001b[0mmodel\u001b[0m\u001b[0;34m.\u001b[0m\u001b[0madd\u001b[0m\u001b[0;34m(\u001b[0m\u001b[0mGlobalAveragePooling1DMasked\u001b[0m\u001b[0;34m(\u001b[0m\u001b[0;34m)\u001b[0m\u001b[0;34m)\u001b[0m\u001b[0;34m\u001b[0m\u001b[0;34m\u001b[0m\u001b[0m\n\u001b[1;32m      4\u001b[0m \u001b[0mmodel\u001b[0m\u001b[0;34m.\u001b[0m\u001b[0madd\u001b[0m\u001b[0;34m(\u001b[0m\u001b[0mDense\u001b[0m\u001b[0;34m(\u001b[0m\u001b[0munits\u001b[0m\u001b[0;34m=\u001b[0m\u001b[0;36m128\u001b[0m\u001b[0;34m)\u001b[0m\u001b[0;34m)\u001b[0m\u001b[0;34m\u001b[0m\u001b[0;34m\u001b[0m\u001b[0m\n\u001b[1;32m      5\u001b[0m \u001b[0mmodel\u001b[0m\u001b[0;34m.\u001b[0m\u001b[0madd\u001b[0m\u001b[0;34m(\u001b[0m\u001b[0mDense\u001b[0m\u001b[0;34m(\u001b[0m\u001b[0munits\u001b[0m\u001b[0;34m=\u001b[0m\u001b[0;36m1\u001b[0m\u001b[0;34m,\u001b[0m\u001b[0mactivation\u001b[0m\u001b[0;34m=\u001b[0m\u001b[0;34m'sigmoid'\u001b[0m\u001b[0;34m)\u001b[0m\u001b[0;34m)\u001b[0m\u001b[0;34m\u001b[0m\u001b[0;34m\u001b[0m\u001b[0m\n",
            "\u001b[0;31mNameError\u001b[0m: name 'VOCAB_SIZE' is not defined"
          ]
        }
      ]
    },
    {
      "cell_type": "code",
      "metadata": {
        "id": "JcdK5uUMCv_6",
        "colab_type": "code",
        "outputId": "c093d924-b559-4e86-9802-321a96b45c44",
        "colab": {
          "base_uri": "https://localhost:8080/",
          "height": 252
        }
      },
      "source": [
        "#Model 2\n",
        "EMBED_SIZE = 100\n",
        "model2 = keras.Sequential()\n",
        "model2.add(Embedding(input_dim=VOCAB_SIZE,output_dim=EMBED_SIZE))\n",
        "#model2.add(Dropout(rate=0.5))\n",
        "model2.add(LSTM(units=100,activation='relu'))\n",
        "#model2.add(Dropout(rate=0.5))\n",
        "model2.add(Dense(units=1,activation='sigmoid'))\n",
        "model2.compile(optimizer='adam',\n",
        "              loss='binary_crossentropy',\n",
        "              metrics=['accuracy'])\n",
        "\n",
        "model2.summary()"
      ],
      "execution_count": 0,
      "outputs": [
        {
          "output_type": "stream",
          "text": [
            "Model: \"sequential_8\"\n",
            "_________________________________________________________________\n",
            "Layer (type)                 Output Shape              Param #   \n",
            "=================================================================\n",
            "embedding_7 (Embedding)      (None, None, 100)         2188200   \n",
            "_________________________________________________________________\n",
            "lstm_6 (LSTM)                (None, 100)               80400     \n",
            "_________________________________________________________________\n",
            "dense_7 (Dense)              (None, 1)                 101       \n",
            "=================================================================\n",
            "Total params: 2,268,701\n",
            "Trainable params: 2,268,701\n",
            "Non-trainable params: 0\n",
            "_________________________________________________________________\n"
          ],
          "name": "stdout"
        }
      ]
    },
    {
      "cell_type": "code",
      "metadata": {
        "id": "IRPf7KyYoPFG",
        "colab_type": "code",
        "colab": {}
      },
      "source": [
        ""
      ],
      "execution_count": 0,
      "outputs": []
    },
    {
      "cell_type": "code",
      "metadata": {
        "id": "Id1mqHLX1Yzh",
        "colab_type": "code",
        "colab": {}
      },
      "source": [
        "#Model 3\n",
        "EMBED_SIZE = 100\n",
        "model3 = keras.Sequential()\n",
        "model3.add(Embedding(input_dim=VOCAB_SIZE,output_dim=EMBED_SIZE))\n",
        "model3.add(Dropout(rate=0.5))\n",
        "model3.add(Conv1D(filters=250,kernel_size=3,strides=1,padding='valid',kernel_initializer='glorot_uniform'))\n",
        "model3.add(GlobalMaxPooling1D())\n",
        "model3.add(Dropout(rate=0.5))\n",
        "model3.add(Dense(units=1,activation='sigmoid'))\n",
        "model3.compile(optimizer='adam',\n",
        "              loss='binary_crossentropy',\n",
        "              metrics=['accuracy'])"
      ],
      "execution_count": 0,
      "outputs": []
    },
    {
      "cell_type": "code",
      "metadata": {
        "id": "PZzGBEmpwA-t",
        "colab_type": "code",
        "colab": {}
      },
      "source": [
        "X_val = np.array(X_train_enc[:3000])\n",
        "partial_X_train = np.array(X_train_enc[3000:])\n",
        "\n",
        "y_val = np.array(y_train[:3000])\n",
        "partial_y_train = np.array(y_train[3000:])"
      ],
      "execution_count": 0,
      "outputs": []
    },
    {
      "cell_type": "code",
      "metadata": {
        "id": "4kSCNxWfwSRC",
        "colab_type": "code",
        "outputId": "447954e7-44ad-4824-f3fc-609d3c791244",
        "colab": {
          "base_uri": "https://localhost:8080/",
          "height": 134
        }
      },
      "source": [
        "history = model2.fit(partial_X_train,\n",
        "                    partial_y_train,\n",
        "                    epochs=3,\n",
        "                    batch_size=100,\n",
        "                    validation_data=(X_val, y_val),\n",
        "                    verbose=1)"
      ],
      "execution_count": 0,
      "outputs": [
        {
          "output_type": "stream",
          "text": [
            "Train on 10240 samples, validate on 3000 samples\n",
            "Epoch 1/3\n",
            "10240/10240 [==============================] - 14s 1ms/step - loss: 0.6247 - acc: 0.6657 - val_loss: 0.5992 - val_acc: 0.6577\n",
            "Epoch 2/3\n",
            "10240/10240 [==============================] - 13s 1ms/step - loss: 0.4660 - acc: 0.7849 - val_loss: 0.5610 - val_acc: 0.7433\n",
            "Epoch 3/3\n",
            "10240/10240 [==============================] - 13s 1ms/step - loss: 0.2744 - acc: 0.8890 - val_loss: 0.6348 - val_acc: 0.7110\n"
          ],
          "name": "stdout"
        }
      ]
    },
    {
      "cell_type": "code",
      "metadata": {
        "id": "Kg-KqJQwoJZk",
        "colab_type": "code",
        "outputId": "7ea2f9cc-337a-45e2-dd20-95b323025ecd",
        "colab": {
          "base_uri": "https://localhost:8080/",
          "height": 295
        }
      },
      "source": [
        "import matplotlib.pyplot as plt\n",
        "\n",
        "history_dict = history.history\n",
        "\n",
        "acc = history_dict['acc']\n",
        "val_acc = history_dict['val_acc']\n",
        "loss = history_dict['loss']\n",
        "val_loss = history_dict['val_loss']\n",
        "\n",
        "epochs = range(1, len(acc) + 1)\n",
        "\n",
        "plt.plot(epochs, acc, 'bo', label='Training acc')\n",
        "plt.plot(epochs, val_acc, 'b', label='Validation acc')\n",
        "plt.title('Training and validation accuracy')\n",
        "plt.xlabel('Epochs')\n",
        "plt.ylabel('Accuracy')\n",
        "plt.legend()\n",
        "\n",
        "plt.show()"
      ],
      "execution_count": 0,
      "outputs": [
        {
          "output_type": "display_data",
          "data": {
            "image/png": "[encoded data removed]",
            "text/plain": [
              "<Figure size 432x288 with 1 Axes>"
            ]
          },
          "metadata": {
            "tags": []
          }
        }
      ]
    },
    {
      "cell_type": "code",
      "metadata": {
        "id": "OL080HOO7huM",
        "colab_type": "code",
        "outputId": "95cbc846-8294-4e37-9158-1cd9e9f1c26f",
        "colab": {
          "base_uri": "https://localhost:8080/",
          "height": 50
        }
      },
      "source": [
        "results = model2.evaluate(X_test_enc,y_test)\n",
        "print(f'Test loss - {results[0]} Test accuracy - {results[1]}')"
      ],
      "execution_count": 0,
      "outputs": [
        {
          "output_type": "stream",
          "text": [
            "860/860 [==============================] - 1s 803us/step\n",
            "Test loss - 0.5713279775408812 Test accuracay - 0.7302325586939967\n"
          ],
          "name": "stdout"
        }
      ]
    },
    {
      "cell_type": "code",
      "metadata": {
        "id": "R-m-Y0MHh08U",
        "colab_type": "code",
        "colab": {}
      },
      "source": [
        "#Sub Task ABC\n",
        "#For 2nd task, create combined class for each row out of 5 classes\n",
        "\n",
        "encoded_label = LabelEncoder().fit_transform(preprocessed_corpus_labels_abc)\n",
        "encoded_label = encoded_label.reshape((len(encoded_label),1))\n",
        "encoded_onehot_abc = np.array(OneHotEncoder(sparse=False).fit_transform(encoded_label))\n",
        "\n",
        "encoded_label_test = LabelEncoder().fit_transform(preprocessed_corpus_labels_abc_test)\n",
        "encoded_label_test = encoded_label_test.reshape((len(encoded_label_test),1))\n",
        "encoded_onehot_abc_test = np.array(OneHotEncoder(sparse=False).fit_transform(encoded_label_test))"
      ],
      "execution_count": 0,
      "outputs": []
    },
    {
      "cell_type": "code",
      "metadata": {
        "id": "B_K0hg591dA-",
        "colab_type": "code",
        "outputId": "a71b2511-1142-4f7b-9c3b-dcce8cf3e26b",
        "colab": {
          "base_uri": "https://localhost:8080/",
          "height": 319
        }
      },
      "source": [
        "#Model 4\n",
        "EMBED_SIZE = 200\n",
        "model4 = keras.Sequential()\n",
        "model4.add(Embedding(input_dim=VOCAB_SIZE,output_dim=EMBED_SIZE))\n",
        "model4.add(Dropout(rate=0.5))\n",
        "model4.add(LSTM(units=100,activation='relu'))\n",
        "model4.add(Dropout(rate=0.5))\n",
        "model4.add(Dense(units=5,activation='softmax'))\n",
        "model4.compile(optimizer='adam',\n",
        "              loss='categorical_crossentropy',\n",
        "              metrics=['accuracy'])\n",
        "model4.summary()"
      ],
      "execution_count": 0,
      "outputs": [
        {
          "output_type": "stream",
          "text": [
            "Model: \"sequential_12\"\n",
            "_________________________________________________________________\n",
            "Layer (type)                 Output Shape              Param #   \n",
            "=================================================================\n",
            "embedding_11 (Embedding)     (None, None, 200)         4376400   \n",
            "_________________________________________________________________\n",
            "dropout_16 (Dropout)         (None, None, 200)         0         \n",
            "_________________________________________________________________\n",
            "lstm_10 (LSTM)               (None, 100)               120400    \n",
            "_________________________________________________________________\n",
            "dropout_17 (Dropout)         (None, 100)               0         \n",
            "_________________________________________________________________\n",
            "dense_10 (Dense)             (None, 5)                 505       \n",
            "=================================================================\n",
            "Total params: 4,497,305\n",
            "Trainable params: 4,497,305\n",
            "Non-trainable params: 0\n",
            "_________________________________________________________________\n"
          ],
          "name": "stdout"
        }
      ]
    },
    {
      "cell_type": "code",
      "metadata": {
        "id": "bjN_etJRmPIM",
        "colab_type": "code",
        "outputId": "5817ed0b-7091-4e8d-90cc-8c1192080f50",
        "colab": {
          "base_uri": "https://localhost:8080/",
          "height": 386
        }
      },
      "source": [
        "#Model 5\n",
        "EMBED_SIZE = 200\n",
        "model5 = keras.Sequential()\n",
        "model5.add(Embedding(input_dim=VOCAB_SIZE,output_dim=EMBED_SIZE))\n",
        "model5.add(Dropout(rate=0.5))\n",
        "model5.add(Conv1D(filters=50,kernel_size=3,strides=1,padding='SAME',kernel_initializer='glorot_uniform'))\n",
        "model5.add(GlobalMaxPooling1D())\n",
        "model5.add(Dense(100))\n",
        "model5.add(Dropout(rate=0.5))\n",
        "model5.add(Dense(units=5,activation='softmax'))\n",
        "model5.compile(optimizer='adam',\n",
        "              loss='categorical_crossentropy',\n",
        "              metrics=['accuracy'])\n",
        "model5.summary()"
      ],
      "execution_count": 0,
      "outputs": [
        {
          "output_type": "stream",
          "text": [
            "Model: \"sequential_25\"\n",
            "_________________________________________________________________\n",
            "Layer (type)                 Output Shape              Param #   \n",
            "=================================================================\n",
            "embedding_24 (Embedding)     (None, None, 200)         4376400   \n",
            "_________________________________________________________________\n",
            "dropout_42 (Dropout)         (None, None, 200)         0         \n",
            "_________________________________________________________________\n",
            "conv1d_14 (Conv1D)           (None, None, 50)          30050     \n",
            "_________________________________________________________________\n",
            "global_max_pooling1d_14 (Glo (None, 50)                0         \n",
            "_________________________________________________________________\n",
            "dense_35 (Dense)             (None, 100)               5100      \n",
            "_________________________________________________________________\n",
            "dropout_43 (Dropout)         (None, 100)               0         \n",
            "_________________________________________________________________\n",
            "dense_36 (Dense)             (None, 5)                 505       \n",
            "=================================================================\n",
            "Total params: 4,412,055\n",
            "Trainable params: 4,412,055\n",
            "Non-trainable params: 0\n",
            "_________________________________________________________________\n"
          ],
          "name": "stdout"
        }
      ]
    },
    {
      "cell_type": "code",
      "metadata": {
        "id": "QFx9FCOLh37x",
        "colab_type": "code",
        "colab": {}
      },
      "source": [
        "y_val_abc = np.array(encoded_onehot_abc[:3000])\n",
        "partial_y_train_abc = np.array(encoded_onehot_abc[3000:])\n",
        "\n"
      ],
      "execution_count": 0,
      "outputs": []
    },
    {
      "cell_type": "code",
      "metadata": {
        "id": "RdayG3yQkuza",
        "colab_type": "code",
        "outputId": "504ef7b1-4c95-4528-b929-00771349207d",
        "colab": {
          "base_uri": "https://localhost:8080/",
          "height": 134
        }
      },
      "source": [
        "history2 = model5.fit(partial_X_train,\n",
        "                    partial_y_train_abc,\n",
        "                    epochs=3,\n",
        "                    batch_size=100,\n",
        "                    validation_data=(X_val, y_val_abc),\n",
        "                    verbose=1)"
      ],
      "execution_count": 0,
      "outputs": [
        {
          "output_type": "stream",
          "text": [
            "Train on 10240 samples, validate on 3000 samples\n",
            "Epoch 1/3\n",
            "10240/10240 [==============================] - 4s 364us/step - loss: 1.0640 - acc: 0.6662 - val_loss: 1.0537 - val_acc: 0.6577\n",
            "Epoch 2/3\n",
            "10240/10240 [==============================] - 1s 101us/step - loss: 0.9145 - acc: 0.6931 - val_loss: 0.9102 - val_acc: 0.7067\n",
            "Epoch 3/3\n",
            "10240/10240 [==============================] - 1s 95us/step - loss: 0.7079 - acc: 0.7596 - val_loss: 0.8921 - val_acc: 0.7043\n"
          ],
          "name": "stdout"
        }
      ]
    },
    {
      "cell_type": "code",
      "metadata": {
        "id": "_P9bPBI6t37P",
        "colab_type": "code",
        "outputId": "a66cc5eb-6960-46ed-8b22-1cc7b659f3bd",
        "colab": {
          "base_uri": "https://localhost:8080/",
          "height": 295
        }
      },
      "source": [
        "history_dict = history2.history\n",
        "\n",
        "acc = history_dict['acc']\n",
        "val_acc = history_dict['val_acc']\n",
        "loss = history_dict['loss']\n",
        "val_loss = history_dict['val_loss']\n",
        "\n",
        "epochs = range(1, len(acc) + 1)\n",
        "\n",
        "plt.plot(epochs, acc, 'bo', label='Training acc')\n",
        "plt.plot(epochs, val_acc, 'b', label='Validation acc')\n",
        "plt.title('Training and validation accuracy')\n",
        "plt.xlabel('Epochs')\n",
        "plt.ylabel('Accuracy')\n",
        "plt.legend()\n",
        "\n",
        "plt.show()"
      ],
      "execution_count": 0,
      "outputs": [
        {
          "output_type": "display_data",
          "data": {
            "image/png": "[encoded data removed]",
            "text/plain": [
              "<Figure size 432x288 with 1 Axes>"
            ]
          },
          "metadata": {
            "tags": []
          }
        }
      ]
    },
    {
      "cell_type": "code",
      "metadata": {
        "id": "--P1uGvb84FO",
        "colab_type": "code",
        "outputId": "56548b1d-335b-48d3-b450-8d917d0bfbb4",
        "colab": {
          "base_uri": "https://localhost:8080/",
          "height": 50
        }
      },
      "source": [
        "results = model5.evaluate(X_test_enc,encoded_onehot_abc_test)\n",
        "print(f'Test loss - {results[0]} Test accuracy - {results[1]}')"
      ],
      "execution_count": 0,
      "outputs": [
        {
          "output_type": "stream",
          "text": [
            "860/860 [==============================] - 0s 94us/step\n",
            "Test loss - 0.7927333083263663 Test accuracy - 0.7511627912521363\n"
          ],
          "name": "stdout"
        }
      ]
    }
  ]
}